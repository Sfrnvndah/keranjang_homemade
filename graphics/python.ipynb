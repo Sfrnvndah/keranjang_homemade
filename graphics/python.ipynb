{
 "cells": [
  {
   "cell_type": "code",
   "execution_count": null,
   "id": "aacda149-af09-40bb-941d-d38e83199711",
   "metadata": {
    "scrolled": true
   },
   "outputs": [],
   "source": [
    "import pandas as pd\n",
    "import json\n",
    "from sqlalchemy import create_engine\n",
    "\n",
    "db_url = \"mysql+pymysql://root:@localhost/keranjang_homemade\"\n",
    "engine = create_engine(db_url)\n",
    "\n",
    "query = \"\"\"\n",
    "SELECT \n",
    "    DATE_FORMAT(o.order_date, '%%M') AS month,  -- Convert to month name\n",
    "    SUM(CASE WHEN o.order_type_id = 1 THEN oi.quantity * oi.price ELSE 0 END) AS online_sales,\n",
    "    SUM(CASE WHEN o.order_type_id = 2 THEN oi.quantity * oi.price ELSE 0 END) AS offline_sales\n",
    "FROM orders o\n",
    "JOIN order_items oi ON o.order_id = oi.order_id\n",
    "GROUP BY month\n",
    "ORDER BY MIN(o.order_date);  -- Ensure correct order by the actual month\n",
    "\"\"\"\n",
    "\n",
    "df = pd.read_sql(query, engine)\n",
    "\n",
    "df = df[(df['online_sales'] > 0) | (df['offline_sales'] > 0)]  # Hanya ambil bulan yang ada penjualannya\n",
    "\n",
    "data = {\n",
    "    \"labels\": df[\"month\"].tolist(),\n",
    "    \"online_sales\": df[\"online_sales\"].tolist(),\n",
    "    \"offline_sales\": df[\"offline_sales\"].tolist()\n",
    "}\n",
    "\n",
    "with open('C:\\\\laragon\\\\www\\\\keranjang_homemade\\\\sales_data.json', 'w') as f:\n",
    "    json.dump(data, f)"
   ]
  },
  {
   "cell_type": "code",
   "execution_count": null,
   "id": "fced09de-6f14-4358-b7e4-3b49edbff1c7",
   "metadata": {},
   "outputs": [],
   "source": []
  }
 ],
 "metadata": {
  "kernelspec": {
   "display_name": "Python 3 (ipykernel)",
   "language": "python",
   "name": "python3"
  },
  "language_info": {
   "codemirror_mode": {
    "name": "ipython",
    "version": 3
   },
   "file_extension": ".py",
   "mimetype": "text/x-python",
   "name": "python",
   "nbconvert_exporter": "python",
   "pygments_lexer": "ipython3",
   "version": "3.12.5"
  }
 },
 "nbformat": 4,
 "nbformat_minor": 5
}
